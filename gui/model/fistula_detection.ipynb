{
  "nbformat": 4,
  "nbformat_minor": 0,
  "metadata": {
    "colab": {
      "provenance": []
    },
    "kernelspec": {
      "name": "python3",
      "display_name": "Python 3"
    },
    "language_info": {
      "name": "python"
    }
  },
  "cells": [
    {
      "cell_type": "code",
      "execution_count": null,
      "metadata": {
        "id": "hoZh8EoFqP7I"
      },
      "outputs": [],
      "source": [
        "import numpy as np\n",
        "import pandas as pd\n",
        "import cv2\n",
        "import os\n",
        "# For data visualization\n",
        "import matplotlib.pyplot as plt\n",
        "import seaborn as sns\n",
        "# For displaying all of the columns in dataframes\n",
        "pd.set_option('display.max_columns', None)\n",
        "# For data modeling\n",
        "from xgboost import XGBClassifier\n",
        "from xgboost import XGBRegressor\n",
        "from xgboost import plot_importance\n",
        "from sklearn.linear_model import LogisticRegression\n",
        "from sklearn.tree import DecisionTreeClassifier\n",
        "from sklearn.ensemble import RandomForestClassifier\n",
        "# For metrics and helpful functions\n",
        "from sklearn.model_selection import GridSearchCV, train_test_split\n",
        "from sklearn.metrics import accuracy_score, precision_score, recall_score,\\\n",
        "f1_score, confusion_matrix, ConfusionMatrixDisplay, classification_report\n",
        "from sklearn.metrics import roc_auc_score, roc_curve\n",
        "from sklearn.tree import plot_tree\n",
        "# For saving models\n",
        "import pickle"
      ]
    },
    {
      "cell_type": "code",
      "source": [
        "# #Preprocessing the images\n",
        "\n",
        "# def pre_process(image):\n",
        "#     # Resize image\n",
        "#     resized_image = cv2.resize(image, (300, 300))\n",
        "\n",
        "#     # Extract ROI (replace with your specific logic)\n",
        "#     roi = resized_image[100:200, 150:250]\n",
        "\n",
        "#     return roi"
      ],
      "metadata": {
        "id": "hg_3WN4srDrA"
      },
      "execution_count": null,
      "outputs": []
    },
    {
      "cell_type": "code",
      "source": [
        "def morphology_diff(contrast_green, clahe):\n",
        "\n",
        "    #1st\n",
        "    open1 = cv2.morphologyEx(contrast_green, cv2.MORPH_OPEN, cv2.getStructuringElement(cv2.MORPH_ELLIPSE,(5,5)), iterations = 1)\n",
        "    close1 = cv2.morphologyEx(open1, cv2.MORPH_CLOSE, cv2.getStructuringElement(cv2.MORPH_ELLIPSE,(5,5)), iterations = 1)\n",
        "    #2nd\n",
        "    open2 = cv2.morphologyEx(close1, cv2.MORPH_OPEN, cv2.getStructuringElement(cv2.MORPH_ELLIPSE,(11,11)), iterations = 1)\n",
        "    close2 = cv2.morphologyEx(open2, cv2.MORPH_CLOSE, cv2.getStructuringElement(cv2.MORPH_ELLIPSE,(11,11)), iterations = 1)\n",
        "    #3rd\n",
        "    open3 = cv2.morphologyEx(close2, cv2.MORPH_OPEN, cv2.getStructuringElement(cv2.MORPH_ELLIPSE,(23,23)), iterations = 1)\n",
        "    close3 = cv2.morphologyEx(open3, cv2.MORPH_CLOSE, cv2.getStructuringElement(cv2.MORPH_ELLIPSE,(23,23)), iterations = 1)\n",
        "\n",
        "    contrast_morph = cv2.subtract(close3, contrast_green)\n",
        "    return clahe.apply(contrast_morph)"
      ],
      "metadata": {
        "id": "rQgYZhH53UvK"
      },
      "execution_count": null,
      "outputs": []
    },
    {
      "cell_type": "code",
      "source": [
        "#Noise Removal\n",
        "\n",
        "def remove_noise(morph_image):\n",
        "    ret, thr = cv2.threshold(morph_image, 15, 255, cv2.THRESH_BINARY)\n",
        "    mask = np.ones(morph_image.shape[:2], dtype=\"uint8\") * 255\n",
        "    # Correct line:\n",
        "    contours, hierarchy = cv2.findContours(thr.copy(), cv2.RETR_LIST, cv2.CHAIN_APPROX_SIMPLE)\n",
        "    for cnt in contours:\n",
        "        if cv2.contourArea(cnt) <= 200:\n",
        "            cv2.drawContours(mask, [cnt], -1, 0, -1)\n",
        "    im = cv2.bitwise_and(morph_image, morph_image, mask=mask)\n",
        "    ret,fin_thr = cv2.threshold(im,15,255,cv2.THRESH_BINARY_INV)\n",
        "    new_img = cv2.erode(fin_thr, cv2.getStructuringElement(cv2.MORPH_ELLIPSE,(3,3)), iterations=1)\n",
        "    return new_img"
      ],
      "metadata": {
        "id": "D1sryegzV9Qo"
      },
      "execution_count": null,
      "outputs": []
    },
    {
      "cell_type": "code",
      "source": [
        "#Blob Removal\n",
        "\n",
        "def remove_blob(clear_image, org_image):\n",
        "    fundus_eroded = cv2.bitwise_not(clear_image)\n",
        "    xmask = np.ones(org_image.shape[:2], dtype=\"uint8\") * 255\n",
        "    # x1, xcontours, xhierarchy = cv2.findContours(fundus_eroded.copy(),cv2.RETR_LIST,cv2.CHAIN_APPROX_SIMPLE)\n",
        "    xcontours, xhierarchy = cv2.findContours(fundus_eroded.copy(), cv2.RETR_LIST, cv2.CHAIN_APPROX_SIMPLE)\n",
        "    for cnt in xcontours:\n",
        "        shape = \"unidentified\"\n",
        "        peri = cv2.arcLength(cnt, True)\n",
        "        approx = cv2.approxPolyDP(cnt, 0.04 * peri, False)\n",
        "        if len(approx) > 4 and cv2.contourArea(cnt) <= 3000 and cv2.contourArea(cnt) >= 100:\n",
        "            shape = \"circle\"\n",
        "        else:\n",
        "            shape = \"veins\"\n",
        "        if(shape==\"circle\"):\n",
        "            cv2.drawContours(xmask, [cnt], -1, 0, -1)\n",
        "\n",
        "    finimage = cv2.bitwise_and(fundus_eroded,fundus_eroded,mask=xmask)\n",
        "    blood_vessels = cv2.bitwise_not(finimage)\n",
        "    return blood_vessels"
      ],
      "metadata": {
        "id": "AvtoS6eq3lGR"
      },
      "execution_count": null,
      "outputs": []
    },
    {
      "cell_type": "code",
      "source": [
        "#Vein detection\n",
        "\n",
        "def detect_vessel(org_image):\n",
        "    copy_org_image = org_image.copy()\n",
        "    blue, green, red = cv2.split(org_image)\n",
        "    clahe = cv2.createCLAHE(clipLimit=5.0, tileGridSize=(8,8))\n",
        "    contrast_green = clahe.apply(green)\n",
        "    morph_image = morphology_diff(contrast_green, clahe)\n",
        "    clear_image = remove_noise(morph_image)\n",
        "    fin_image = remove_blob(clear_image, org_image)\n",
        "    i = 0\n",
        "    j = 0\n",
        "    for gr, fin in zip(green, fin_image):\n",
        "        for g, f in zip(gr, fin):\n",
        "            if(f == 0):\n",
        "                green[i][j] = 255\n",
        "            j = j + 1\n",
        "        j = 0\n",
        "        i = i + 1\n",
        "    #return fin_image\n",
        "    return fin_image, cv2.merge(( blue, green, red))\n"
      ],
      "metadata": {
        "id": "ohrb-ZCGanqR"
      },
      "execution_count": null,
      "outputs": []
    },
    {
      "cell_type": "code",
      "source": [
        "if __name__ == \"__main__\":\n",
        "    data_catalog = \"data\"\n",
        "    raw_catalog = \"raw_vessels\"\n",
        "    vessel_catalog = \"vessels_images\"\n",
        "    files_names = [x for x in os.listdir(data_catalog) if os.path.isfile(os.path.join(data_catalog,x))]\n",
        "    files_names.sort()\n",
        "\n",
        "    for file_name in files_names:\n",
        "        out_name = file_name.split('.')[0]\n",
        "        org_image = cv2.imread(data_catalog + '/' + file_name)\n",
        "        raw_vessel, vessel_image = detect_vessel(org_image)\n",
        "        cv2.imwrite(raw_catalog + '/' + out_name + \".JPG\", raw_vessel)\n",
        "        cv2.imwrite(vessel_catalog + '/' + out_name + \".JPG\", vessel_image)\n"
      ],
      "metadata": {
        "id": "B9UWMQX8niMo"
      },
      "execution_count": null,
      "outputs": []
    }
  ]
}